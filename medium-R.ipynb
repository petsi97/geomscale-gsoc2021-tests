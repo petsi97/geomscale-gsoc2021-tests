{
 "cells": [
  {
   "cell_type": "markdown",
   "metadata": {},
   "source": [
    "# Sample on the flux space of the metabolic network of e_coli"
   ]
  },
  {
   "cell_type": "markdown",
   "metadata": {},
   "source": [
    "### Use library sybil to read e_coli data and run FBA algorithm"
   ]
  },
  {
   "cell_type": "code",
   "execution_count": 1,
   "metadata": {},
   "outputs": [
    {
     "name": "stderr",
     "output_type": "stream",
     "text": [
      "reading model description, ... OK\n",
      "reading metabolite list ... OK\n",
      "parsing reaction list ... OK\n",
      "GPR mapping ... OK\n",
      "sub systems ... OK\n",
      "prepare modelorg object ... OK\n",
      "validating object ... OK\n"
     ]
    },
    {
     "data": {
      "text/html": [
       "TRUE"
      ],
      "text/latex": [
       "TRUE"
      ],
      "text/markdown": [
       "TRUE"
      ],
      "text/plain": [
       "[1] TRUE"
      ]
     },
     "metadata": {},
     "output_type": "display_data"
    },
    {
     "name": "stderr",
     "output_type": "stream",
     "text": [
      "Loading required package: glpkAPI\n",
      "using GLPK version 4.47\n"
     ]
    }
   ],
   "source": [
    "suppressMessages(library(sybil))\n",
    "options(warn=-1)\n",
    "\n",
    "mp <- system.file(package = \"sybil\", \"extdata\")\n",
    "mod <- readTSVmod(prefix = \"Ec_core\", fpath = mp, quoteChar = \"\\\"\")\n",
    "modelorg2tsv(mod, prefix = \"Ec_core\")\n",
    "data(Ec_core)\n",
    "ex <- findExchReact(Ec_core)\n",
    "optL <- optimizeProb(Ec_core, algorithm = \"fba\", retOptSol = FALSE)\n",
    "fba <- optimizeProb(Ec_core, algorithm = \"fba\")"
   ]
  },
  {
   "cell_type": "markdown",
   "metadata": {},
   "source": [
    "### Extract all constrants in order to define flux space\n",
    "\n",
    "1. $S$ :  stoichiometric matrix\n",
    "\n",
    "2. $low\\_bound$ : capacity's lower bound\n",
    "\n",
    "3. $up\\_bound$ : capacity's upper bound"
   ]
  },
  {
   "cell_type": "code",
   "execution_count": 2,
   "metadata": {},
   "outputs": [],
   "source": [
    "S<- (as.matrix(S(Ec_core)))\n",
    "\n",
    "low_bound<-mod@lowbnd\n",
    "up_bound<-mod@uppbnd"
   ]
  },
  {
   "cell_type": "markdown",
   "metadata": {},
   "source": [
    "### Define constrants inequetions\n",
    "\n",
    "#### Two different constraints make the flux space:\n",
    "\n",
    "1. $Sv=0$, where $S$ is the stoichiometric matrix and $v$ a unknown vector we are looking for.\n",
    "2. $a_i\\leq v_i\\leq b_i$, where $a_i$ defined by $low\\_bound$ and $b_i$ by $up\\_bound$\n",
    "\n",
    "In oder to represent these constraints we consider the linear inequality $Ax\\leq b$. So we construct $A$ matrix and $b$ vector."
   ]
  },
  {
   "cell_type": "code",
   "execution_count": 3,
   "metadata": {},
   "outputs": [],
   "source": [
    "m = dim(S)[1]\n",
    "n = dim(S)[2]\n",
    "\n",
    "up_matrix = diag(n)\n",
    "low_matrix2 = -1*diag(n)\n",
    "\n",
    "S2 = -1*S\n",
    " \n",
    "zero_con = numeric(m)+10 #NOTE:                        ***Future Changes**\n",
    "                         #Inequality contraints we contruct have only one fisible solution equal to zero vector.\n",
    "                         #      In order to show the whole sampling proccess we change constraint (1) \n",
    "\n",
    "A<-rbind(up_matrix,low_matrix2,S,S2)\n",
    "b<-rbind(t(matrix(up_bound,nrow = 1,ncol = n)),\n",
    "         t(matrix(-1*low_bound,nrow = 1,ncol = n)),\n",
    "         t(matrix(zero_con,nrow = 1,ncol = m)),\n",
    "         t(matrix(zero_con,nrow = 1,ncol = m)))"
   ]
  },
  {
   "cell_type": "markdown",
   "metadata": {},
   "source": [
    "### Polytope's Construction and Sampling\n",
    "\n",
    "#### A Convex polytope can be described as  $Ax\\leq b$ linear inequality."
   ]
  },
  {
   "cell_type": "code",
   "execution_count": 4,
   "metadata": {},
   "outputs": [],
   "source": [
    "suppressMessages(library(volesti))\n",
    "P = Hpolytope(A = A, b = c(b))\n",
    "sampled_data<-sample_points(P, 10000)"
   ]
  },
  {
   "cell_type": "markdown",
   "metadata": {},
   "source": [
    "### Save sampled data as a csv file"
   ]
  },
  {
   "cell_type": "code",
   "execution_count": 5,
   "metadata": {},
   "outputs": [],
   "source": [
    "suppressMessages(library(MASS))\n",
    "current_path = 'C:/Users/petsi/Documents/UOA/Google'\n",
    "name = '/sampled_data.csv'\n",
    "full_path=paste(current_path,name,sep='')\n",
    "write.matrix(sampled_data, file = full_path, sep = \",\")"
   ]
  }
 ],
 "metadata": {
  "kernelspec": {
   "display_name": "R",
   "language": "R",
   "name": "ir"
  },
  "language_info": {
   "codemirror_mode": "r",
   "file_extension": ".r",
   "mimetype": "text/x-r-source",
   "name": "R",
   "pygments_lexer": "r",
   "version": "3.6.1"
  }
 },
 "nbformat": 4,
 "nbformat_minor": 4
}
